{
  "nbformat": 4,
  "nbformat_minor": 0,
  "metadata": {
    "colab": {
      "name": "TextMin.ipynb",
      "provenance": [],
      "authorship_tag": "ABX9TyNxljS0Rezb/AmEvcyHmuZW",
      "include_colab_link": true
    },
    "kernelspec": {
      "name": "python3",
      "display_name": "Python 3"
    }
  },
  "cells": [
    {
      "cell_type": "markdown",
      "metadata": {
        "id": "view-in-github",
        "colab_type": "text"
      },
      "source": [
        "<a href=\"https://colab.research.google.com/github/satyamjh/DF/blob/master/TextMin.ipynb\" target=\"_parent\"><img src=\"https://colab.research.google.com/assets/colab-badge.svg\" alt=\"Open In Colab\"/></a>"
      ]
    },
    {
      "cell_type": "code",
      "metadata": {
        "id": "nHCCBz5AU_Re",
        "colab_type": "code",
        "colab": {}
      },
      "source": [
        "# Importing necessary library\n",
        "import pandas as pd\n",
        "import numpy as np\n",
        "import nltk\n",
        "import os\n",
        "import nltk.corpus# sample text for performing tokenization\n",
        "text = “In Brazil they drive on the right-hand side of the road. Brazil has a large coastline on the eastern\n",
        "side of South America\"# importing word_tokenize from nltk\n",
        "from nltk.tokenize import word_tokenize# Passing the string text into word tokenize for breaking the sentences\n",
        "token = word_tokenize(text)\n",
        "token"
      ],
      "execution_count": null,
      "outputs": []
    }
  ]
}